{
    "cells": [
        {
            "cell_type": "code",
            "execution_count": 3,
            "metadata": {},
            "outputs": [],
            "source": "# !pip install torch"
        },
        {
            "cell_type": "code",
            "execution_count": 4,
            "metadata": {},
            "outputs": [],
            "source": "import pandas as pd\nimport numpy as np\nfrom scipy import stats\nimport torch.tensor\nfrom torch.utils.data import random_split\nimport torch\nimport torch.nn as nn\nfrom torch.utils.data import Dataset \nfrom torch.utils.data import DataLoader\nimport matplotlib.pyplot as plt\nfrom matplotlib import font_manager\nimport matplotlib as mpl\nimport pickle"
        },
        {
            "cell_type": "code",
            "execution_count": 5,
            "metadata": {},
            "outputs": [],
            "source": "#print(mpl.matplotlib_fname()) \n#!cd /opt/conda/envs/Python36/lib/python3.6/site-packages/matplotlib/mpl-data/fonts/ttf && ls -all"
        },
        {
            "cell_type": "code",
            "execution_count": 6,
            "metadata": {},
            "outputs": [],
            "source": "# Project setting\n_using_cloud = True\nif _using_cloud:\n    from project_lib import Project \n    # Project id and access_token\n    project = Project(project_id='8976f872-f678-426a-92f5-cd2267195121',\n                      project_access_token='p-906af9388f829cd831410d7d2deb4d16f4bc504d')\n\n# Unicode setting for displaying Chinese\nfontP = font_manager.FontProperties()\nfont_name = 'SimHei'\nif _using_cloud:\n    simhei_ttf_name = font_name + '.ttf'\n    simhei_ttf = project.get_file(simhei_ttf_name)\n    mpl_fonts_ttf = '/opt/conda/envs/Python36/lib/python3.6/site-packages/matplotlib/mpl-data/fonts/ttf/' + simhei_ttf_name\n    with open(mpl_fonts_ttf, \"wb\") as f:\n        f.write(simhei_ttf.getbuffer())\n    font_manager._rebuild()\n    mpl.rcParams['font.family'] = [font_name]\n    mpl.rcParams['axes.unicode_minus']=False\nelse:\n    fontP.set_family('SimHei')\n    fontP.set_size(14)"
        },
        {
            "cell_type": "code",
            "execution_count": 7,
            "metadata": {},
            "outputs": [],
            "source": "# The code was removed by Watson Studio for sharing."
        },
        {
            "cell_type": "code",
            "execution_count": 8,
            "metadata": {},
            "outputs": [],
            "source": "def get_ts_dxy(skip_day):\n    data = pd.read_csv(\"https://raw.githubusercontent.com/BlankerL/DXY-COVID-19-Data/master/csv/DXYArea.csv\")\n    searchfor = ['\u5916\u5730\u6765','\u660e\u786e\u5730\u533a','\u4e0d\u660e\u5730\u533a','\u672a\u77e5\u5730\u533a','\u672a\u77e5','\u4eba\u5458','\u5f85\u660e\u786e']\n    data = data[~data['cityName'].str.contains('|'.join(searchfor))]\n    data = data[~data['provinceName'].str.contains('|'.join(['\u9999\u6e2f','\u53f0\u6e7e','\u6fb3\u95e8']))]\n    data = data[data['cityName'].groupby(data['cityName']).transform('size')>40]\n    data['updateTime']=pd.to_datetime(data['updateTime']).dt.date\n    grouped = data.sort_values('updateTime',ascending = False).groupby(['updateTime'])\n    i = 0\n    integrate = pd.DataFrame()\n    for name,group in grouped:\n        i +=1\n        set_group = group.drop_duplicates(['provinceName','cityName'])\n        set_group = set_group[['provinceName','cityName','city_confirmedCount','city_curedCount','city_deadCount']]\n        set_group.rename(columns={\"city_confirmedCount\": \"city_confirmedCount\"+' '+str(name), \n                                  \"city_curedCount\": \"city_curedCount\"+' '+str(name),\n                                  'city_deadCount': 'city_deadCount'+' '+str(name)}, inplace=True)\n        if i<=skip_day:\n            integrate = set_group\n        else:\n            integrate = integrate.merge(set_group, how = 'outer', on = ['provinceName','cityName'])\n    integrate.dropna(thresh=len(integrate.columns)*0.9, inplace = True)\n    integrate['ts']= integrate.iloc[:,2:].values.tolist()\n    integrate = integrate[['provinceName','cityName','ts']].reset_index(drop=True)\n    return integrate"
        },
        {
            "cell_type": "code",
            "execution_count": 9,
            "metadata": {},
            "outputs": [],
            "source": "def prepare_data(data,window):\n    arraydata = []\n    for index, row in data.iterrows():\n        ts = np.diff(np.reshape(row.ts,(-1,3)),axis = 0)\n        ts = ts[~np.isnan(ts).any(axis=1),:]\n        for i in range(len(ts)-window+1):\n            seq = ts[i:i+window]\n            seq = np.nan_to_num(stats.zscore(seq, axis = 0))\n            arraydata.append(seq)\n    arraydata = torch.tensor(arraydata, dtype=torch.float)\n    #split or not\n    dataset = datasets(arraydata)\n    train_len = int(dataset.__len__()*0.8)\n    test_len = dataset.__len__()-train_len\n    train_data, test_data = random_split(dataset,[train_len,test_len])\n    return train_data, test_data"
        },
        {
            "cell_type": "code",
            "execution_count": 10,
            "metadata": {},
            "outputs": [],
            "source": "class LSTMModel(nn.Module):\n    def __init__(self, input_dim, hidden_dim, layer_dim, output_dim):\n        super(LSTMModel, self).__init__()\n        self.hidden_dim = hidden_dim\n        self.layer_dim = layer_dim\n        # batch_first=True causes input/output tensors to be of shape\n        # (batch_dim, seq_dim, feature_dim)\n        self.lstm = nn.LSTM(input_dim, hidden_dim, layer_dim, batch_first=True)\n        self.fc = nn.Linear(hidden_dim, output_dim)\n\n    def forward(self, x):\n        # Initialize hidden state\n        h0 = torch.zeros(self.layer_dim, x.size(0), self.hidden_dim, dtype=torch.float).requires_grad_()\n        # Initialize cell state\n        c0 = torch.zeros(self.layer_dim, x.size(0), self.hidden_dim, dtype=torch.float).requires_grad_()\n        out, (hn, cn) = self.lstm(x, (h0.detach(), c0.detach()))\n        # Index hidden state of last time step\n        out = self.fc(out[:, -1, :]) \n        return out\n    \n    \nclass datasets(Dataset):\n    def __init__(self, data):\n        self.data = data\n        \n    def __len__(self):\n        return len(self.data)\n    \n    def __getitem__(self, index):\n        target = self.data[index][-1]\n        data_val = self.data[index] [:-1]\n        return data_val,target"
        },
        {
            "cell_type": "code",
            "execution_count": 15,
            "metadata": {},
            "outputs": [],
            "source": "def training_model(train_data, test_data, num_epochs, batch_size=8, input_dim=3, hidden_dim=150, output_dim=3, seq_dim=7):\n    \n    train_loader = DataLoader(dataset=train_data, batch_size=batch_size, shuffle=True, drop_last=True)\n    test_loader = DataLoader(dataset=train_data, batch_size=batch_size, shuffle=True, drop_last=True)\n    Mymodel = LSTMModel(input_dim, hidden_dim, 1, output_dim)\n    loss_function = nn.MSELoss()\n    optimizer = torch.optim.Adam(Mymodel.parameters(), lr=0.01)\n    iters = 0\n    hisloss = []\n    for epoch in range(num_epochs):\n        for data_val,target in train_loader:\n            # clean the previous gredient\n            optimizer.zero_grad()\n            outputs = Mymodel(data_val)\n            #calculate loss\n            loss = loss_function(outputs, target)\n            hisloss.append(loss.item())\n            # using loss to calculate gredient, stored in model\n            loss.backward()\n            # using gredient to update model parameters\n            optimizer.step()\n            iters += 1\n            if iters % 300 ==0:\n                for test_val,test_target in test_loader:\n                    test_outputs = Mymodel(test_val)\n                    loss2 = loss_function(test_outputs, test_target)\n                print('Iteration: {}. TrainLoss: {}. TestLoss: {}'.format(iters, loss.item(), loss2.item()))\n                model_folder, model_filename = 'Trained_model/', 'trained_model_{0}.pkl'.format(str(iters))\n                state_dict = Mymodel.state_dict()\n                if _using_cloud:\n                    project.save_data(model_filename, pickle.dumps(state_dict), overwrite=True)\n#                     torch.save(Mymodel.state_dict())\n                else:\n                    torch.save(state_dict, model_folder + model_filename)\n    plt.plot(hisloss)\n    plt.xlabel('Iteration')\n    plt.ylabel('Training loss')\n    plt.title('Traing process')\n    plt.grid(True)\n    plt.show()\n    model_folder, fig_filename = 'Trained_model/', 'loss.png'\n    if _using_cloud:\n        fig_handle = plt.figure()\n        project.save_data(fig_filename, pickle.dumps(fig_handle), overwrite=True)\n    else:\n        plt.savefig(model_folder + fig_filename)        \n    return Mymodel"
        },
        {
            "cell_type": "code",
            "execution_count": 16,
            "metadata": {},
            "outputs": [],
            "source": "def evaluation(provincename, cityname, modelpath, data):\n    Mymodel = LSTMModel(3, 150, 1, 3)\n#     Mymodel.load_state_dict(torch.load(modelpath))\n    model_folder, model_filename = modelpath.split('/')\n    if _using_cloud:\n        state_dict = pickle.load(project.get_file(model_filename))\n    else:\n        state_dict = torch.load(modelpath)\n    Mymodel.load_state_dict(state_dict)\n    series = data.loc[(data[\"provinceName\"] == provincename) & (data[\"cityName\"] == cityname), \"ts\"].values.tolist()\n    series = np.reshape(series,(-1,3))\n    if np.isnan(series[-1][0]):\n        series = series[:-1]\n    diff_series = np.diff(series,axis = 0)\n    n = len(diff_series)\n    seq = []\n    predict_series = []\n    predict_series[:] = series[0:7]\n    store_diff = []\n    store_diff[:] = diff_series[0:7]\n    for i in range(n):\n        seq[:] = diff_series[i:i+7]\n        mean = np.mean(seq,axis = 0)\n        std = np.std(seq,axis = 0)\n        seq -= mean\n        seq /= std\n        tensor_seq = torch.tensor(np.nan_to_num([seq]), dtype=torch.float, requires_grad=False)\n        predictions = np.array(Mymodel(tensor_seq).tolist()[0])\n        real_diff = predictions * std + mean\n        store_diff = np.append(store_diff,[real_diff],axis = 0)\n        if i>=n-7:\n            diff_series = np.append(diff_series,[real_diff],axis = 0)\n            predict_series = np.append(predict_series,[np.array(list(map(sum,zip(predict_series[-1],real_diff))))],axis = 0)\n        else:\n            predict_series = np.append(predict_series,[np.array(list(map(sum,zip(series[i+6],real_diff))))],axis = 0)\n    return series, predict_series, provincename+cityname, store_diff, diff_series"
        },
        {
            "cell_type": "code",
            "execution_count": 17,
            "metadata": {},
            "outputs": [],
            "source": "def draw_plot(origin,pred,title):\n#     fontP = font_manager.FontProperties()\n#     fontP.set_family('SimHei')\n#     fontP.set_size(14)\n    \n    x1 = origin[:,0]\n    x2 = pred[:,0]\n    plt.plot(x1, label = \"True_value\")\n    plt.plot(x2, label = \"Predicted_value\")\n    plt.xlabel('Time (days)')\n    plt.ylabel('Infections')\n    \n    if _using_cloud:\n        plt.title(title)\n    else:\n        plt.title(title,fontproperties=fontP)\n        \n    plt.legend()\n    plt.grid(True)\n    plt.show()\n    return"
        },
        {
            "cell_type": "code",
            "execution_count": 18,
            "metadata": {
                "scrolled": false
            },
            "outputs": [
                {
                    "name": "stderr",
                    "output_type": "stream",
                    "text": "/opt/conda/envs/Python36/lib/python3.6/site-packages/scipy/stats/stats.py:2281: RuntimeWarning: invalid value encountered in true_divide\n  return (a - mns) / sstd\n"
                },
                {
                    "name": "stdout",
                    "output_type": "stream",
                    "text": "Iteration: 300. TrainLoss: 0.13523747026920319. TestLoss: 0.042914945632219315\nIteration: 600. TrainLoss: 0.01757657341659069. TestLoss: 0.08681253343820572\nIteration: 900. TrainLoss: 0.03424668312072754. TestLoss: 0.02284103073179722\nIteration: 1200. TrainLoss: 0.027363227680325508. TestLoss: 0.014955289661884308\nIteration: 1500. TrainLoss: 0.0249274130910635. TestLoss: 0.00925805326551199\nIteration: 1800. TrainLoss: 0.0028581609949469566. TestLoss: 0.0018372396007180214\nIteration: 2100. TrainLoss: 0.009440416470170021. TestLoss: 0.007325705606490374\nIteration: 2400. TrainLoss: 0.005328867584466934. TestLoss: 0.006592519115656614\nIteration: 2700. TrainLoss: 0.0024023004807531834. TestLoss: 0.005450964439660311\nIteration: 3000. TrainLoss: 0.0034167247358709574. TestLoss: 0.011942259967327118\nIteration: 3300. TrainLoss: 0.0027477573603391647. TestLoss: 0.00830554123967886\nIteration: 3600. TrainLoss: 0.002489108359441161. TestLoss: 0.0035637340042740107\nIteration: 3900. TrainLoss: 0.010399921797215939. TestLoss: 0.004058965016156435\nIteration: 4200. TrainLoss: 0.002187405014410615. TestLoss: 0.0018072606762871146\nIteration: 4500. TrainLoss: 0.004325123969465494. TestLoss: 0.002555098617449403\nIteration: 4800. TrainLoss: 0.004285760689526796. TestLoss: 0.0036748379934579134\nIteration: 5100. TrainLoss: 0.0023350128903985023. TestLoss: 0.0019348780624568462\n"
                },
                {
                    "data": {
                        "image/png": "[encoded data removed]",
                        "text/plain": "<Figure size 432x288 with 1 Axes>"
                    },
                    "metadata": {
                        "needs_background": "light"
                    },
                    "output_type": "display_data"
                },
                {
                    "data": {
                        "text/plain": "<Figure size 432x288 with 0 Axes>"
                    },
                    "metadata": {},
                    "output_type": "display_data"
                }
            ],
            "source": "if __name__ == \"__main__\":\n    ## custimized part\n    data = get_ts_dxy(1)\n    train,test = prepare_data(data,8)\n    Mymodel = training_model(train,test, num_epochs = 6)"
        },
        {
            "cell_type": "code",
            "execution_count": null,
            "metadata": {},
            "outputs": [],
            "source": "    modelpath = 'Trained_model/trained_model_2100.pkl' \n    origin , predictions, title, store_diff, diff_series  = evaluation('\u6e56\u5317\u7701', '\u6b66\u6c49', modelpath, data)\n    draw_plot(origin , predictions, title)"
        },
        {
            "cell_type": "code",
            "execution_count": null,
            "metadata": {},
            "outputs": [],
            "source": "    draw_plot(diff_series, store_diff, title+'difference')"
        }
    ],
    "metadata": {
        "kernelspec": {
            "display_name": "Python 3.6",
            "language": "python",
            "name": "python3"
        },
        "language_info": {
            "codemirror_mode": {
                "name": "ipython",
                "version": 3
            },
            "file_extension": ".py",
            "mimetype": "text/x-python",
            "name": "python",
            "nbconvert_exporter": "python",
            "pygments_lexer": "ipython3",
            "version": "3.6.9"
        }
    },
    "nbformat": 4,
    "nbformat_minor": 2
}